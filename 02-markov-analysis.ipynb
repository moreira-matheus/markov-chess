{
 "cells": [
  {
   "cell_type": "markdown",
   "metadata": {},
   "source": [
    "[REFERENCE](https://rstudio-pubs-static.s3.amazonaws.com/335466_20f0c84f1fe040c3ba64bcd32499cfb3.html)"
   ]
  },
  {
   "cell_type": "code",
   "execution_count": 1,
   "metadata": {},
   "outputs": [],
   "source": [
    "import os\n",
    "import re\n",
    "import pandas as pd\n",
    "import numpy as np"
   ]
  },
  {
   "cell_type": "code",
   "execution_count": 2,
   "metadata": {},
   "outputs": [],
   "source": [
    "from itertools import product"
   ]
  },
  {
   "cell_type": "code",
   "execution_count": 3,
   "metadata": {},
   "outputs": [],
   "source": [
    "FOLDER = './tidy_data/'"
   ]
  },
  {
   "cell_type": "code",
   "execution_count": 4,
   "metadata": {},
   "outputs": [],
   "source": [
    "fnames = list(filter(lambda fname: fname.endswith('.pgn'), os.listdir(FOLDER)))"
   ]
  },
  {
   "cell_type": "code",
   "execution_count": 5,
   "metadata": {},
   "outputs": [],
   "source": [
    "games = {}\n",
    "pat = '(?:.*_)(\\d+)(?:\\.pgn)'\n",
    "\n",
    "for fname in fnames:\n",
    "    gid = re.search(pat, fname).groups()[0]\n",
    "    \n",
    "    with open(FOLDER + fname, 'r') as file:\n",
    "        game = file.read()\n",
    "        games[gid] = game.split(' ')\n"
   ]
  },
  {
   "cell_type": "markdown",
   "metadata": {},
   "source": [
    "***"
   ]
  },
  {
   "cell_type": "code",
   "execution_count": 6,
   "metadata": {},
   "outputs": [],
   "source": [
    "states = ['Initial', 'oCapture', 'oCheck', 'Both', 'Else']"
   ]
  },
  {
   "cell_type": "code",
   "execution_count": 7,
   "metadata": {},
   "outputs": [],
   "source": [
    "def isOnlyCapture(ply):\n",
    "    '''\n",
    "    Informs whether the ply was a capture\n",
    "    without check.\n",
    "    '''\n",
    "    return 'x' in ply and not '+' in ply\n",
    "\n",
    "def isOnlyCheck(ply):\n",
    "    '''\n",
    "    Informs whether the ply was a check\n",
    "    without capture.\n",
    "    '''\n",
    "    return '+' in ply and not 'x' in ply\n",
    "\n",
    "def isBoth(ply):\n",
    "    '''\n",
    "    Informs whether the ply was a check\n",
    "    WITH capture.\n",
    "    '''\n",
    "    return '+' in ply and 'x' in ply\n",
    "\n",
    "def isElse(ply):\n",
    "    '''\n",
    "    Informs whether the ply was neither a check\n",
    "    nor a capture.\n",
    "    '''\n",
    "    return not '+' in ply and not 'x' in ply"
   ]
  },
  {
   "cell_type": "code",
   "execution_count": 8,
   "metadata": {},
   "outputs": [],
   "source": [
    "mapped_plies = {}\n",
    "\n",
    "for gid, plies in games.items():\n",
    "    mapped = {'Initial': [True] + [False] * (len(plies) - 1),\n",
    "              'oCapture': list(map(isOnlyCapture, plies)),\n",
    "              'oCheck': list(map(isOnlyCheck, plies)),\n",
    "              'Both': list(map(isBoth, plies)),\n",
    "              'Else': list(map(isElse, plies))}\n",
    "\n",
    "    mapped_plies[gid] = mapped"
   ]
  },
  {
   "cell_type": "code",
   "execution_count": 9,
   "metadata": {},
   "outputs": [],
   "source": [
    "emp_data = {gid: {key: sum(val)/len(val) for key, val in mapped.items()}\\\n",
    "            for gid, mapped in mapped_plies.items()}\n",
    "count_vec = {gid: {key: sum(val[:-1]) for key, val in mapped.items()}\n",
    "            for gid, mapped in mapped_plies.items()}"
   ]
  },
  {
   "cell_type": "code",
   "execution_count": 10,
   "metadata": {},
   "outputs": [],
   "source": [
    "emp_data = pd.DataFrame.from_dict(emp_data, orient='index')\n",
    "count_vec = pd.DataFrame.from_dict(count_vec, orient='index').sum()"
   ]
  },
  {
   "cell_type": "code",
   "execution_count": 11,
   "metadata": {},
   "outputs": [
    {
     "data": {
      "text/plain": [
       "Initial      11\n",
       "oCapture    175\n",
       "oCheck       17\n",
       "Both         12\n",
       "Else        734\n",
       "dtype: int64"
      ]
     },
     "execution_count": 11,
     "metadata": {},
     "output_type": "execute_result"
    }
   ],
   "source": [
    "count_vec"
   ]
  },
  {
   "cell_type": "code",
   "execution_count": 12,
   "metadata": {},
   "outputs": [],
   "source": [
    "transitions = pd.DataFrame(0, index=states, columns=states)\n",
    "\n",
    "for gid, plies in mapped_plies.items():\n",
    "    for src, tgt in product(plies.keys(), repeat=2):\n",
    "        arr_src = np.array(plies[src], dtype=int)[:-1]\n",
    "        arr_tgt = np.roll(np.array(plies[tgt], dtype=int), -1)[:-1]\n",
    "        count = arr_src.dot(arr_tgt)\n",
    "\n",
    "        transitions.loc[src, tgt] = transitions.loc[src, tgt] + count\n",
    "\n",
    "transition_matrix = transitions.divide(count_vec, axis=0)"
   ]
  },
  {
   "cell_type": "code",
   "execution_count": 13,
   "metadata": {},
   "outputs": [
    {
     "data": {
      "text/html": [
       "<div>\n",
       "<style scoped>\n",
       "    .dataframe tbody tr th:only-of-type {\n",
       "        vertical-align: middle;\n",
       "    }\n",
       "\n",
       "    .dataframe tbody tr th {\n",
       "        vertical-align: top;\n",
       "    }\n",
       "\n",
       "    .dataframe thead th {\n",
       "        text-align: right;\n",
       "    }\n",
       "</style>\n",
       "<table border=\"1\" class=\"dataframe\">\n",
       "  <thead>\n",
       "    <tr style=\"text-align: right;\">\n",
       "      <th></th>\n",
       "      <th>Initial</th>\n",
       "      <th>oCapture</th>\n",
       "      <th>oCheck</th>\n",
       "      <th>Both</th>\n",
       "      <th>Else</th>\n",
       "    </tr>\n",
       "  </thead>\n",
       "  <tbody>\n",
       "    <tr>\n",
       "      <th>Initial</th>\n",
       "      <td>0.0</td>\n",
       "      <td>0.000000</td>\n",
       "      <td>0.000000</td>\n",
       "      <td>0.000000</td>\n",
       "      <td>1.000000</td>\n",
       "    </tr>\n",
       "    <tr>\n",
       "      <th>oCapture</th>\n",
       "      <td>0.0</td>\n",
       "      <td>0.457143</td>\n",
       "      <td>0.022857</td>\n",
       "      <td>0.034286</td>\n",
       "      <td>0.485714</td>\n",
       "    </tr>\n",
       "    <tr>\n",
       "      <th>oCheck</th>\n",
       "      <td>0.0</td>\n",
       "      <td>0.058824</td>\n",
       "      <td>0.000000</td>\n",
       "      <td>0.000000</td>\n",
       "      <td>0.941176</td>\n",
       "    </tr>\n",
       "    <tr>\n",
       "      <th>Both</th>\n",
       "      <td>0.0</td>\n",
       "      <td>0.666667</td>\n",
       "      <td>0.000000</td>\n",
       "      <td>0.083333</td>\n",
       "      <td>0.250000</td>\n",
       "    </tr>\n",
       "    <tr>\n",
       "      <th>Else</th>\n",
       "      <td>0.0</td>\n",
       "      <td>0.117166</td>\n",
       "      <td>0.017711</td>\n",
       "      <td>0.008174</td>\n",
       "      <td>0.856948</td>\n",
       "    </tr>\n",
       "  </tbody>\n",
       "</table>\n",
       "</div>"
      ],
      "text/plain": [
       "          Initial  oCapture    oCheck      Both      Else\n",
       "Initial       0.0  0.000000  0.000000  0.000000  1.000000\n",
       "oCapture      0.0  0.457143  0.022857  0.034286  0.485714\n",
       "oCheck        0.0  0.058824  0.000000  0.000000  0.941176\n",
       "Both          0.0  0.666667  0.000000  0.083333  0.250000\n",
       "Else          0.0  0.117166  0.017711  0.008174  0.856948"
      ]
     },
     "execution_count": 13,
     "metadata": {},
     "output_type": "execute_result"
    }
   ],
   "source": [
    "transition_matrix"
   ]
  },
  {
   "cell_type": "markdown",
   "metadata": {},
   "source": [
    "**Simulation**:"
   ]
  },
  {
   "cell_type": "code",
   "execution_count": 14,
   "metadata": {},
   "outputs": [
    {
     "name": "stdout",
     "output_type": "stream",
     "text": [
      "Step 18: CONVERGED.\n"
     ]
    }
   ],
   "source": [
    "s0 = pd.Series([int(s == 'Initial') for s in states], index=states)\n",
    "\n",
    "sn = s0.copy()\n",
    "for i in range(1000):\n",
    "    sn_1 = sn.copy()\n",
    "    sn = sn.dot(transition_matrix)\n",
    "    \n",
    "    if np.allclose(sn_1, sn, rtol=1e-8, atol=1e-8):\n",
    "        print(f'Step {i}: CONVERGED.')\n",
    "        stationary_state = sn.copy()\n",
    "        break"
   ]
  },
  {
   "cell_type": "code",
   "execution_count": 15,
   "metadata": {},
   "outputs": [
    {
     "data": {
      "text/plain": [
       "Initial     0.000000\n",
       "oCapture    0.187551\n",
       "oCheck      0.018108\n",
       "Both        0.013974\n",
       "Else        0.780367\n",
       "dtype: float64"
      ]
     },
     "execution_count": 15,
     "metadata": {},
     "output_type": "execute_result"
    }
   ],
   "source": [
    "stationary_state"
   ]
  },
  {
   "cell_type": "markdown",
   "metadata": {},
   "source": [
    "Using `numpy`:"
   ]
  },
  {
   "cell_type": "code",
   "execution_count": 16,
   "metadata": {},
   "outputs": [],
   "source": [
    "eigvals, eigvecs = np.linalg.eig(transition_matrix.T)\n",
    "non_normed_stat = eigvecs[:, np.isclose(eigvals, 1)]\n",
    "stat = non_normed_stat/non_normed_stat.sum()"
   ]
  },
  {
   "cell_type": "code",
   "execution_count": 17,
   "metadata": {},
   "outputs": [
    {
     "data": {
      "text/plain": [
       "Initial     0.000000\n",
       "oCapture    0.187551\n",
       "oCheck      0.018108\n",
       "Both        0.013974\n",
       "Else        0.780367\n",
       "dtype: float64"
      ]
     },
     "execution_count": 17,
     "metadata": {},
     "output_type": "execute_result"
    }
   ],
   "source": [
    "pd.Series(np.ravel(stat), index=states)"
   ]
  }
 ],
 "metadata": {
  "kernelspec": {
   "display_name": "Python 3",
   "language": "python",
   "name": "python3"
  },
  "language_info": {
   "codemirror_mode": {
    "name": "ipython",
    "version": 3
   },
   "file_extension": ".py",
   "mimetype": "text/x-python",
   "name": "python",
   "nbconvert_exporter": "python",
   "pygments_lexer": "ipython3",
   "version": "3.7.3"
  }
 },
 "nbformat": 4,
 "nbformat_minor": 4
}
