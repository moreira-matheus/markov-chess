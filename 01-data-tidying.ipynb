{
 "cells": [
  {
   "cell_type": "code",
   "execution_count": 1,
   "metadata": {},
   "outputs": [],
   "source": [
    "import re\n",
    "import os"
   ]
  },
  {
   "cell_type": "code",
   "execution_count": 2,
   "metadata": {},
   "outputs": [],
   "source": [
    "RAW_DATA_FOLDER = './raw_data/'\n",
    "TIDY_DATA_FOLDER = './tidy_data/'"
   ]
  },
  {
   "cell_type": "code",
   "execution_count": 3,
   "metadata": {},
   "outputs": [],
   "source": [
    "fnames = list(filter(lambda fname: fname.endswith('.pgn'), os.listdir(RAW_DATA_FOLDER)))"
   ]
  },
  {
   "cell_type": "code",
   "execution_count": 4,
   "metadata": {},
   "outputs": [],
   "source": [
    "raw_games = []\n",
    "\n",
    "for fname in fnames:\n",
    "    with open(RAW_DATA_FOLDER + fname, 'r') as file:\n",
    "        raw_game = file.read()\n",
    "        raw_games.append(raw_game.replace('\\n', ' ').strip())"
   ]
  },
  {
   "cell_type": "code",
   "execution_count": 5,
   "metadata": {},
   "outputs": [],
   "source": [
    "def tidy_game(game, return_result=False):\n",
    "    pat = '(?:\\[.*\\]\\s*)(.*)'\n",
    "    tidy_game = re.search(pat, game).groups()[0]\n",
    "    turns = tidy_game.split(' ')\n",
    "    result = turns.pop()\n",
    "    plies = list(map(lambda turn: re.sub(pattern='\\d+\\.', repl='', string=turn),\n",
    "                     turns))\n",
    "\n",
    "    return plies if not return_result else (plies, result)"
   ]
  },
  {
   "cell_type": "code",
   "execution_count": 6,
   "metadata": {},
   "outputs": [],
   "source": [
    "for fname, raw_game in zip(fnames, raw_games):\n",
    "    plies = tidy_game(raw_game)\n",
    "\n",
    "    with open(TIDY_DATA_FOLDER + fname, 'w') as file:\n",
    "        file.write(' '.join(plies))"
   ]
  }
 ],
 "metadata": {
  "kernelspec": {
   "display_name": "Python 3",
   "language": "python",
   "name": "python3"
  },
  "language_info": {
   "codemirror_mode": {
    "name": "ipython",
    "version": 3
   },
   "file_extension": ".py",
   "mimetype": "text/x-python",
   "name": "python",
   "nbconvert_exporter": "python",
   "pygments_lexer": "ipython3",
   "version": "3.7.3"
  }
 },
 "nbformat": 4,
 "nbformat_minor": 2
}
