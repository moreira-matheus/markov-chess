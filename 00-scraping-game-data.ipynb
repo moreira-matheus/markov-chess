{
 "cells": [
  {
   "cell_type": "code",
   "execution_count": 1,
   "metadata": {},
   "outputs": [],
   "source": [
    "import re\n",
    "import scrapy\n",
    "from scrapy.crawler import CrawlerProcess\n",
    "from urllib.request import urlretrieve"
   ]
  },
  {
   "cell_type": "code",
   "execution_count": 2,
   "metadata": {},
   "outputs": [],
   "source": [
    "OUTPUT_FOLDER = './raw_data/'"
   ]
  },
  {
   "cell_type": "code",
   "execution_count": 3,
   "metadata": {},
   "outputs": [],
   "source": [
    "base_url = 'https://www.chessgames.com'\n",
    "start_url = 'https://www.chessgames.com/perl/chesscollection?cid=1014770'"
   ]
  },
  {
   "cell_type": "code",
   "execution_count": 4,
   "metadata": {},
   "outputs": [],
   "source": [
    "class ChessGamesSpider(scrapy.Spider):\n",
    "    name = 'chess-games'\n",
    "    start_urls = [start_url]\n",
    "\n",
    "    base_url = base_url\n",
    "    output_folder = OUTPUT_FOLDER\n",
    "    \n",
    "    def parse_game(self, response):\n",
    "        links = response.css('td > font > a::attr(href)').extract()\n",
    "        pgn_link = list(filter(lambda link: link.startswith('/pgn/'), links))[0]\n",
    "        \n",
    "        pat = '(?:\\/pgn\\/)(.*)(?:.pgn\\?gid=)(\\d+)'\n",
    "        fname, gid = re.search(pattern=pat, string=pgn_link).groups()\n",
    "        \n",
    "        urlretrieve(url=self.base_url + pgn_link,\n",
    "                    filename=self.output_folder + fname + '_' + gid + '.pgn')\n",
    "    \n",
    "    def parse(self, response):\n",
    "        links = response.css('p > font > a::attr(href)').extract()\n",
    "        for link in links:\n",
    "            yield scrapy.Request(url=self.base_url+link,\n",
    "                                 callback=self.parse_game,\n",
    "                                 dont_filter=True)\n"
   ]
  },
  {
   "cell_type": "code",
   "execution_count": 5,
   "metadata": {
    "scrolled": false
   },
   "outputs": [
    {
     "name": "stderr",
     "output_type": "stream",
     "text": [
      "2020-08-29 16:52:00 [scrapy.utils.log] INFO: Scrapy 2.0.1 started (bot: scrapybot)\n",
      "2020-08-29 16:52:00 [scrapy.utils.log] INFO: Versions: lxml 4.3.2.0, libxml2 2.9.9, cssselect 1.0.3, parsel 1.5.1, w3lib 1.20.0, Twisted 19.2.0, Python 3.7.3 (default, Mar 27 2019, 17:13:21) [MSC v.1915 64 bit (AMD64)], pyOpenSSL 19.0.0 (OpenSSL 1.1.1c  28 May 2019), cryptography 2.6.1, Platform Windows-10-10.0.17134-SP0\n",
      "2020-08-29 16:52:00 [scrapy.utils.log] DEBUG: Using reactor: twisted.internet.selectreactor.SelectReactor\n",
      "2020-08-29 16:52:00 [scrapy.crawler] INFO: Overridden settings:\n",
      "{}\n",
      "2020-08-29 16:52:00 [scrapy.extensions.telnet] INFO: Telnet Password: 5374bf00805ac3a4\n",
      "2020-08-29 16:52:00 [scrapy.middleware] INFO: Enabled extensions:\n",
      "['scrapy.extensions.corestats.CoreStats',\n",
      " 'scrapy.extensions.telnet.TelnetConsole',\n",
      " 'scrapy.extensions.logstats.LogStats']\n",
      "2020-08-29 16:52:01 [scrapy.middleware] INFO: Enabled downloader middlewares:\n",
      "['scrapy.downloadermiddlewares.httpauth.HttpAuthMiddleware',\n",
      " 'scrapy.downloadermiddlewares.downloadtimeout.DownloadTimeoutMiddleware',\n",
      " 'scrapy.downloadermiddlewares.defaultheaders.DefaultHeadersMiddleware',\n",
      " 'scrapy.downloadermiddlewares.useragent.UserAgentMiddleware',\n",
      " 'scrapy.downloadermiddlewares.retry.RetryMiddleware',\n",
      " 'scrapy.downloadermiddlewares.redirect.MetaRefreshMiddleware',\n",
      " 'scrapy.downloadermiddlewares.httpcompression.HttpCompressionMiddleware',\n",
      " 'scrapy.downloadermiddlewares.redirect.RedirectMiddleware',\n",
      " 'scrapy.downloadermiddlewares.cookies.CookiesMiddleware',\n",
      " 'scrapy.downloadermiddlewares.httpproxy.HttpProxyMiddleware',\n",
      " 'scrapy.downloadermiddlewares.stats.DownloaderStats']\n",
      "2020-08-29 16:52:01 [scrapy.middleware] INFO: Enabled spider middlewares:\n",
      "['scrapy.spidermiddlewares.httperror.HttpErrorMiddleware',\n",
      " 'scrapy.spidermiddlewares.offsite.OffsiteMiddleware',\n",
      " 'scrapy.spidermiddlewares.referer.RefererMiddleware',\n",
      " 'scrapy.spidermiddlewares.urllength.UrlLengthMiddleware',\n",
      " 'scrapy.spidermiddlewares.depth.DepthMiddleware']\n",
      "2020-08-29 16:52:01 [scrapy.middleware] INFO: Enabled item pipelines:\n",
      "[]\n",
      "2020-08-29 16:52:01 [scrapy.core.engine] INFO: Spider opened\n",
      "2020-08-29 16:52:01 [scrapy.extensions.logstats] INFO: Crawled 0 pages (at 0 pages/min), scraped 0 items (at 0 items/min)\n",
      "2020-08-29 16:52:01 [scrapy.extensions.telnet] INFO: Telnet console listening on 127.0.0.1:6024\n",
      "2020-08-29 16:52:05 [scrapy.core.engine] DEBUG: Crawled (200) <GET https://www.chessgames.com/perl/chesscollection?cid=1014770> (referer: None)\n",
      "2020-08-29 16:52:08 [scrapy.core.engine] DEBUG: Crawled (200) <GET https://www.chessgames.com/perl/chessgame?gid=1070917> (referer: https://www.chessgames.com/perl/chesscollection?cid=1014770)\n",
      "2020-08-29 16:52:09 [scrapy.core.engine] DEBUG: Crawled (200) <GET https://www.chessgames.com/perl/chessgame?gid=1070913> (referer: https://www.chessgames.com/perl/chesscollection?cid=1014770)\n",
      "2020-08-29 16:52:09 [scrapy.core.engine] DEBUG: Crawled (200) <GET https://www.chessgames.com/perl/chessgame?gid=1070878> (referer: https://www.chessgames.com/perl/chesscollection?cid=1014770)\n",
      "2020-08-29 16:52:09 [scrapy.core.engine] DEBUG: Crawled (200) <GET https://www.chessgames.com/perl/chessgame?gid=1070914> (referer: https://www.chessgames.com/perl/chesscollection?cid=1014770)\n",
      "2020-08-29 16:52:09 [scrapy.core.engine] DEBUG: Crawled (200) <GET https://www.chessgames.com/perl/chessgame?gid=1070915> (referer: https://www.chessgames.com/perl/chesscollection?cid=1014770)\n",
      "2020-08-29 16:52:15 [scrapy.core.engine] DEBUG: Crawled (200) <GET https://www.chessgames.com/perl/chessgame?gid=1070912> (referer: https://www.chessgames.com/perl/chesscollection?cid=1014770)\n",
      "2020-08-29 16:52:16 [scrapy.core.engine] DEBUG: Crawled (200) <GET https://www.chessgames.com/perl/chessgame?gid=1070879> (referer: https://www.chessgames.com/perl/chesscollection?cid=1014770)\n",
      "2020-08-29 16:52:19 [scrapy.core.engine] DEBUG: Crawled (200) <GET https://www.chessgames.com/perl/chessgame?gid=1070916> (referer: https://www.chessgames.com/perl/chesscollection?cid=1014770)\n",
      "2020-08-29 16:52:19 [scrapy.core.engine] DEBUG: Crawled (200) <GET https://www.chessgames.com/perl/chessgame?gid=1070876> (referer: https://www.chessgames.com/perl/chesscollection?cid=1014770)\n",
      "2020-08-29 16:52:31 [scrapy.core.engine] DEBUG: Crawled (200) <GET https://www.chessgames.com/perl/chessgame?gid=1070877> (referer: https://www.chessgames.com/perl/chesscollection?cid=1014770)\n",
      "2020-08-29 16:53:01 [scrapy.extensions.logstats] INFO: Crawled 11 pages (at 11 pages/min), scraped 0 items (at 0 items/min)\n",
      "2020-08-29 16:54:01 [scrapy.extensions.logstats] INFO: Crawled 11 pages (at 0 pages/min), scraped 0 items (at 0 items/min)\n",
      "2020-08-29 16:54:10 [scrapy.downloadermiddlewares.retry] DEBUG: Retrying <GET https://www.chessgames.com/perl/chessgame?gid=1070874> (failed 1 times): [<twisted.python.failure.Failure twisted.internet.error.ConnectionLost: Connection to the other side was lost in a non-clean fashion: Connection lost.>]\n",
      "2020-08-29 16:54:15 [scrapy.core.engine] DEBUG: Crawled (200) <GET https://www.chessgames.com/perl/chessgame?gid=1070874> (referer: https://www.chessgames.com/perl/chesscollection?cid=1014770)\n",
      "2020-08-29 16:54:19 [scrapy.core.engine] INFO: Closing spider (finished)\n",
      "2020-08-29 16:54:19 [scrapy.statscollectors] INFO: Dumping Scrapy stats:\n",
      "{'downloader/exception_count': 1,\n",
      " 'downloader/exception_type_count/twisted.web._newclient.ResponseNeverReceived': 1,\n",
      " 'downloader/request_bytes': 4018,\n",
      " 'downloader/request_count': 13,\n",
      " 'downloader/request_method_count/GET': 13,\n",
      " 'downloader/response_bytes': 132548,\n",
      " 'downloader/response_count': 12,\n",
      " 'downloader/response_status_count/200': 12,\n",
      " 'elapsed_time_seconds': 138.012759,\n",
      " 'finish_reason': 'finished',\n",
      " 'finish_time': datetime.datetime(2020, 8, 29, 19, 54, 19, 43613),\n",
      " 'log_count/DEBUG': 13,\n",
      " 'log_count/INFO': 12,\n",
      " 'request_depth_max': 1,\n",
      " 'response_received_count': 12,\n",
      " 'retry/count': 1,\n",
      " 'retry/reason_count/twisted.web._newclient.ResponseNeverReceived': 1,\n",
      " 'scheduler/dequeued': 13,\n",
      " 'scheduler/dequeued/memory': 13,\n",
      " 'scheduler/enqueued': 13,\n",
      " 'scheduler/enqueued/memory': 13,\n",
      " 'start_time': datetime.datetime(2020, 8, 29, 19, 52, 1, 30854)}\n",
      "2020-08-29 16:54:19 [scrapy.core.engine] INFO: Spider closed (finished)\n"
     ]
    }
   ],
   "source": [
    "process = scrapy.crawler.CrawlerProcess()\n",
    "process.crawl(ChessGamesSpider)\n",
    "process.start()"
   ]
  }
 ],
 "metadata": {
  "kernelspec": {
   "display_name": "Python 3",
   "language": "python",
   "name": "python3"
  },
  "language_info": {
   "codemirror_mode": {
    "name": "ipython",
    "version": 3
   },
   "file_extension": ".py",
   "mimetype": "text/x-python",
   "name": "python",
   "nbconvert_exporter": "python",
   "pygments_lexer": "ipython3",
   "version": "3.7.3"
  }
 },
 "nbformat": 4,
 "nbformat_minor": 2
}
